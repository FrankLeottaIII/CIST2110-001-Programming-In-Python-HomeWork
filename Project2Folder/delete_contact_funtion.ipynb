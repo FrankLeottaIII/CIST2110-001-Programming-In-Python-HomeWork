{
 "cells": [
  {
   "cell_type": "code",
   "execution_count": null,
   "metadata": {},
   "outputs": [],
   "source": [
    "# delete_contact(id) - This function will delete a contact from the dictionary. \n",
    "# The function will take one parameter, the name of the contact to delete.\n",
    "#  The function will return True if the contact was deleted and False if the contact was not deleted.\n",
    "#  The function will display an error message if the contact does not exist.\n",
    "def delete_contact(do_I_delete_contact: bool)->bool:\n",
    "    global contacts\n",
    "\n",
    "    if name in contacts:\n",
    "        #del contacts[name]\n",
    "        return True\n",
    "    else:\n",
    "        print(\"Error: Contact does not exist\")\n",
    "        return False\n",
    "\n",
    "\n",
    "do_I_delete_contact = bool()\n",
    "\n",
    "def delete_contact_action():\n",
    "    if do_I_delete_contact == True:\n",
    "        try:\n",
    "            name = get_name()\n",
    "            del contacts[name]\n",
    "            print(\"Contact deleted\")\n",
    "            return  contacts[name]\n",
    "        except:\n",
    "            print(\"Error: Contact does not exist\")\n",
    "    else:\n",
    "        print(\"Contact not deleted\")\n",
    "\n",
    "def reset_delete_contact():\n",
    "    global do_I_delete_contact\n",
    "    do_I_delete_contact = None\n",
    "    do_I_delete_contact = bool()       \n",
    "do_I_delete_contact = None\n",
    "do_I_delete_contact = bool()"
   ]
  }
 ],
 "metadata": {
  "language_info": {
   "name": "python"
  }
 },
 "nbformat": 4,
 "nbformat_minor": 2
}
