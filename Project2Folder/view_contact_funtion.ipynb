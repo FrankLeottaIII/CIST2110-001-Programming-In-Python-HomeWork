{
 "cells": [
  {
   "cell_type": "code",
   "execution_count": null,
   "metadata": {},
   "outputs": [],
   "source": [
    "#view_contacts() - This function will display the contacts in the dictionary. The function will take no parameters. \n",
    "#The function will return nothing. \n",
    "#The function will display a message if there are no contacts in the dictionary.\n",
    "# Use string formatting to display the contacts in a table format. \n",
    "#The table should have a header row and each contact should be on a separate row. \n",
    "#The table should have the following columns: Name, Phone, Email, Birthday. \n",
    "#The birthday should be formatted as mm/dd/yyyy. The table should be sorted by name.\n",
    "# Hint 1: You will need to loop through the dictionary to display the contacts. IE. for key, value in contact.items():\n",
    "\n",
    "\n",
    "# Extra Credit: The data is a dictionary of dictionaries. You can unpack the dictionary into a list of dictionaries.\n",
    "# Like in Lab 10 and then use the tabulate library to display the contacts in a table format. \n",
    "#This is optional and not required. You can use string formatting to display the contacts in a table format.\n"
   ]
  },
  {
   "cell_type": "code",
   "execution_count": null,
   "metadata": {},
   "outputs": [],
   "source": [
    "import datetime as dt\n",
    "def view_contacts():\n",
    "    if len(contacts) == 0:\n",
    "        print(\"No contacts found.\")\n",
    "    else:\n",
    "        print(\"Name\\tPhone\\t\\tEmail\\t\\t\\tBirthday\")\n",
    "        print(\"----------------------------------------------\")\n",
    "        for name, contact in sorted(contacts.items()):\n",
    "            phone = contact['Phone']\n",
    "            email = contact['Email']\n",
    "            birthday = contact['Birthday'].strftime(\"%m/%d/%Y\")\n",
    "            print(f\"{name}\\t{phone}\\t{email}\\t{birthday}\")\n"
   ]
  }
 ],
 "metadata": {
  "language_info": {
   "name": "python"
  }
 },
 "nbformat": 4,
 "nbformat_minor": 2
}
