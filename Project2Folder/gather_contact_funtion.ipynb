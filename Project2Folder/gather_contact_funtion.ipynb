{
 "cells": [
  {
   "cell_type": "code",
   "execution_count": null,
   "metadata": {},
   "outputs": [],
   "source": [
    "#add_contact(name, phone, email, birthday) - This function will add a contact to the dictionary. \n",
    "# The function will take four parameters, the name, phone number, email address, and birthday.\n",
    "#  The function will return True if the contact was added and False if the contact was not added. \n",
    "# The function will display an error message if the contact already exists.\n",
    "# Hint 1: You will need to convert the birthday to a datetime object.\n",
    "#  You can do that by using the strptime function. IE. dt.datetime.strptime(birthday, '%m/%d/%Y')\n",
    "# Hint 2: To add a contact to the dictionary, you need to use the key as the name and the values as a \n",
    "# dictionary that contains the phone number, email address, and birthday. To reference the specific key you can use contact[name]"
   ]
  },
  {
   "cell_type": "code",
   "execution_count": null,
   "metadata": {},
   "outputs": [],
   "source": [
    "#gathering user input\n",
    "\n",
    "\n",
    "\n"
   ]
  }
 ],
 "metadata": {
  "language_info": {
   "name": "python"
  }
 },
 "nbformat": 4,
 "nbformat_minor": 2
}
