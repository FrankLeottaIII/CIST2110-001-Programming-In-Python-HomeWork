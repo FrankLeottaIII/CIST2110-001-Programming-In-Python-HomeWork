{
 "cells": [
  {
   "cell_type": "code",
   "execution_count": 9,
   "metadata": {},
   "outputs": [
    {
     "name": "stdout",
     "output_type": "stream",
     "text": [
      "Contacts imported successfully.\n",
      "{'Sean Solis': {'Name': 'Sean Solis', 'Phone': '609-555-9647', 'Email': 'wparsons@beck.com', 'Birthday': datetime.datetime(1985, 10, 18, 0, 0)}, 'Melissa Ramsey': {'Name': 'Melissa Ramsey', 'Phone': '609-555-1564', 'Email': 'aprilmunoz@garrett.biz', 'Birthday': datetime.datetime(1920, 2, 10, 0, 0)}, 'Heather Clayton': {'Name': 'Heather Clayton', 'Phone': '609-555-2382', 'Email': 'alejandragarcia@roman-henderson.info', 'Birthday': datetime.datetime(1920, 1, 1, 0, 0)}, 'Peter Clark': {'Name': 'Peter Clark', 'Phone': '609-555-5561', 'Email': 'sandragill@chan.org', 'Birthday': datetime.datetime(1996, 10, 25, 0, 0)}, 'Elizabeth Wilson': {'Name': 'Elizabeth Wilson', 'Phone': '609-555-9018', 'Email': 'pattersonvalerie@hernandez.com', 'Birthday': datetime.datetime(2001, 5, 1, 0, 0)}, 'David Ponce': {'Name': 'David Ponce', 'Phone': '609-555-6731', 'Email': 'john13@ramos.org', 'Birthday': datetime.datetime(2003, 8, 2, 0, 0)}, 'Luke Harvey': {'Name': 'Luke Harvey', 'Phone': '609-555-8934', 'Email': 'melanie75@simpson.info', 'Birthday': datetime.datetime(1996, 10, 6, 0, 0)}, 'Katelyn Hanson': {'Name': 'Katelyn Hanson', 'Phone': '609-555-4402', 'Email': 'michellekelley@yahoo.com', 'Birthday': datetime.datetime(1996, 6, 1, 0, 0)}, 'Raymond Oconnor': {'Name': 'Raymond Oconnor', 'Phone': '609-555-8125', 'Email': 'jonathan47@martin.com', 'Birthday': datetime.datetime(2007, 8, 25, 0, 0)}, 'Andrew Thomas': {'Name': 'Andrew Thomas', 'Phone': '609-555-7520', 'Email': 'nbrock@black-compton.com', 'Birthday': datetime.datetime(2000, 12, 1, 0, 0)}, 'Benjamin Ward': {'Name': 'Benjamin Ward', 'Phone': '609-555-4955', 'Email': 'lisarussell@green-smith.net', 'Birthday': datetime.datetime(2006, 1, 26, 0, 0)}, 'Amanda Thompson': {'Name': 'Amanda Thompson', 'Phone': '609-555-4579', 'Email': 'eduardoadams@yahoo.com', 'Birthday': datetime.datetime(2006, 8, 7, 0, 0)}, 'Ashley Barton': {'Name': 'Ashley Barton', 'Phone': '609-555-1443', 'Email': 'johnmccoy@yahoo.com', 'Birthday': datetime.datetime(2004, 6, 5, 0, 0)}, 'Amber Gibson': {'Name': 'Amber Gibson', 'Phone': '609-555-8370', 'Email': 'mcclurebrian@yahoo.com', 'Birthday': datetime.datetime(2005, 5, 4, 0, 0)}, 'Katherine Gillespie': {'Name': 'Katherine Gillespie', 'Phone': '609-555-8589', 'Email': 'manuel05@hotmail.com', 'Birthday': datetime.datetime(2003, 8, 12, 0, 0)}, 'Ashley Smith': {'Name': 'Ashley Smith', 'Phone': '609-555-7918', 'Email': 'josephvillanueva@johnson.biz', 'Birthday': datetime.datetime(2001, 8, 9, 0, 0)}, 'Mark Collins': {'Name': 'Mark Collins', 'Phone': '609-555-4131', 'Email': 'thompsondarrell@hunt.info', 'Birthday': datetime.datetime(1997, 12, 5, 0, 0)}, 'Jeffrey Tucker': {'Name': 'Jeffrey Tucker', 'Phone': '609-555-1547', 'Email': 'christine38@skinner.com', 'Birthday': datetime.datetime(2006, 6, 6, 0, 0)}, 'Stephen Franklin': {'Name': 'Stephen Franklin', 'Phone': '609-555-5604', 'Email': 'tammy69@yahoo.com', 'Birthday': datetime.datetime(2004, 9, 8, 0, 0)}, 'Robin Thomas': {'Name': 'Robin Thomas', 'Phone': '609-555-8956', 'Email': 'rlewis@watts.info', 'Birthday': datetime.datetime(2011, 7, 11, 0, 0)}}\n"
     ]
    }
   ],
   "source": [
    "#gather_contact funtion\n",
    "\n",
    "import csv\n",
    "import datetime as dt\n",
    "import time\n",
    "\n",
    "def import_csv(csv_file):\n",
    "    try:\n",
    "        with open(csv_file, 'r') as file: # open file in read mode\n",
    "            reader = csv.reader(file) # create reader object, a reader object is an iterator.  It will read one line at a time\n",
    "            next(reader)  # Skip the first line\n",
    "            contacts = {} # create empty dictionary\n",
    "            for row in reader: # loop through reader object, to define the values of the dictionary\n",
    "                name = row[0] # name is the key, row[0] is the first column in the csv file\n",
    "                phone = row[1] # phone is the key, row[1] is the second column in the csv file\n",
    "                email = row[2]\n",
    "                birthday = dt.datetime.strptime(row[3], '%m/%d/%Y')\n",
    "                name2 = name\n",
    "                #birthday = dt.datetime.strptime(row[3], '%m/%d/%Y') # \n",
    "                contacts[name2] = {'Name': name,'Phone': phone, 'Email': email, 'Birthday': birthday} \n",
    "            print(\"Contacts imported successfully.\")\n",
    "            return contacts\n",
    "    except FileNotFoundError:\n",
    "        print(\"File does not exist.\")\n",
    "\n",
    "\n",
    "                #finding something\n",
    "#                name_lower = name.lower()\n",
    "                #birthday = dt.datetime.strptime(row[3], '%m/%d/%Y') # \n",
    "#                contacts[name_lower] = {'Name': name,'Phone': phone, 'Email': email, 'Birthday': birthday} \n",
    "#\n",
    "#\n",
    "\n",
    "#we just created a dictionary of dictionaries, the key is the name, the value is a dictionary of the  name, phone, email, and birthday\n",
    "\n",
    "info = import_csv(\"contacts.csv\")    \n",
    "print(info)\n"
   ]
  },
  {
   "cell_type": "code",
   "execution_count": 14,
   "metadata": {},
   "outputs": [
    {
     "name": "stdout",
     "output_type": "stream",
     "text": [
      "{'Sean Solis': {'Name': 'Sean Solis', 'Phone': '609-555-9647', 'Email': 'wparsons@beck.com', 'Birthday': datetime.datetime(1985, 10, 18, 0, 0)}, 'Melissa Ramsey': {'Name': 'Melissa Ramsey', 'Phone': '609-555-1564', 'Email': 'aprilmunoz@garrett.biz', 'Birthday': datetime.datetime(1920, 2, 10, 0, 0)}, 'Heather Clayton': {'Name': 'Heather Clayton', 'Phone': '609-555-2382', 'Email': 'alejandragarcia@roman-henderson.info', 'Birthday': datetime.datetime(1920, 1, 1, 0, 0)}, 'Peter Clark': {'Name': 'Peter Clark', 'Phone': '609-555-5561', 'Email': 'sandragill@chan.org', 'Birthday': datetime.datetime(1996, 10, 25, 0, 0)}, 'Elizabeth Wilson': {'Name': 'Elizabeth Wilson', 'Phone': '609-555-9018', 'Email': 'pattersonvalerie@hernandez.com', 'Birthday': datetime.datetime(2001, 5, 1, 0, 0)}, 'David Ponce': {'Name': 'David Ponce', 'Phone': '609-555-6731', 'Email': 'john13@ramos.org', 'Birthday': datetime.datetime(2003, 8, 2, 0, 0)}, 'Luke Harvey': {'Name': 'Luke Harvey', 'Phone': '609-555-8934', 'Email': 'melanie75@simpson.info', 'Birthday': datetime.datetime(1996, 10, 6, 0, 0)}, 'Katelyn Hanson': {'Name': 'Katelyn Hanson', 'Phone': '609-555-4402', 'Email': 'michellekelley@yahoo.com', 'Birthday': datetime.datetime(1996, 6, 1, 0, 0)}, 'Raymond Oconnor': {'Name': 'Raymond Oconnor', 'Phone': '609-555-8125', 'Email': 'jonathan47@martin.com', 'Birthday': datetime.datetime(2007, 8, 25, 0, 0)}, 'Andrew Thomas': {'Name': 'Andrew Thomas', 'Phone': '609-555-7520', 'Email': 'nbrock@black-compton.com', 'Birthday': datetime.datetime(2000, 12, 1, 0, 0)}, 'Benjamin Ward': {'Name': 'Benjamin Ward', 'Phone': '609-555-4955', 'Email': 'lisarussell@green-smith.net', 'Birthday': datetime.datetime(2006, 1, 26, 0, 0)}, 'Amanda Thompson': {'Name': 'Amanda Thompson', 'Phone': '609-555-4579', 'Email': 'eduardoadams@yahoo.com', 'Birthday': datetime.datetime(2006, 8, 7, 0, 0)}, 'Ashley Barton': {'Name': 'Ashley Barton', 'Phone': '609-555-1443', 'Email': 'johnmccoy@yahoo.com', 'Birthday': datetime.datetime(2004, 6, 5, 0, 0)}, 'Amber Gibson': {'Name': 'Amber Gibson', 'Phone': '609-555-8370', 'Email': 'mcclurebrian@yahoo.com', 'Birthday': datetime.datetime(2005, 5, 4, 0, 0)}, 'Katherine Gillespie': {'Name': 'Katherine Gillespie', 'Phone': '609-555-8589', 'Email': 'manuel05@hotmail.com', 'Birthday': datetime.datetime(2003, 8, 12, 0, 0)}, 'Ashley Smith': {'Name': 'Ashley Smith', 'Phone': '609-555-7918', 'Email': 'josephvillanueva@johnson.biz', 'Birthday': datetime.datetime(2001, 8, 9, 0, 0)}, 'Mark Collins': {'Name': 'Mark Collins', 'Phone': '609-555-4131', 'Email': 'thompsondarrell@hunt.info', 'Birthday': datetime.datetime(1997, 12, 5, 0, 0)}, 'Jeffrey Tucker': {'Name': 'Jeffrey Tucker', 'Phone': '609-555-1547', 'Email': 'christine38@skinner.com', 'Birthday': datetime.datetime(2006, 6, 6, 0, 0)}, 'Stephen Franklin': {'Name': 'Stephen Franklin', 'Phone': '609-555-5604', 'Email': 'tammy69@yahoo.com', 'Birthday': datetime.datetime(2004, 9, 8, 0, 0)}, 'Robin Thomas': {'Name': 'Robin Thomas', 'Phone': '609-555-8956', 'Email': 'rlewis@watts.info', 'Birthday': datetime.datetime(2011, 7, 11, 0, 0)}, 'av av': {'Name': 'av av', 'Phone': '5555555555', 'Email': 'asdf', 'Birthday': '07251989'}}\n",
      "Contact added successfully.\n",
      "{'Sean Solis': {'Name': 'Sean Solis', 'Phone': '609-555-9647', 'Email': 'wparsons@beck.com', 'Birthday': datetime.datetime(1985, 10, 18, 0, 0)}, 'Melissa Ramsey': {'Name': 'Melissa Ramsey', 'Phone': '609-555-1564', 'Email': 'aprilmunoz@garrett.biz', 'Birthday': datetime.datetime(1920, 2, 10, 0, 0)}, 'Heather Clayton': {'Name': 'Heather Clayton', 'Phone': '609-555-2382', 'Email': 'alejandragarcia@roman-henderson.info', 'Birthday': datetime.datetime(1920, 1, 1, 0, 0)}, 'Peter Clark': {'Name': 'Peter Clark', 'Phone': '609-555-5561', 'Email': 'sandragill@chan.org', 'Birthday': datetime.datetime(1996, 10, 25, 0, 0)}, 'Elizabeth Wilson': {'Name': 'Elizabeth Wilson', 'Phone': '609-555-9018', 'Email': 'pattersonvalerie@hernandez.com', 'Birthday': datetime.datetime(2001, 5, 1, 0, 0)}, 'David Ponce': {'Name': 'David Ponce', 'Phone': '609-555-6731', 'Email': 'john13@ramos.org', 'Birthday': datetime.datetime(2003, 8, 2, 0, 0)}, 'Luke Harvey': {'Name': 'Luke Harvey', 'Phone': '609-555-8934', 'Email': 'melanie75@simpson.info', 'Birthday': datetime.datetime(1996, 10, 6, 0, 0)}, 'Katelyn Hanson': {'Name': 'Katelyn Hanson', 'Phone': '609-555-4402', 'Email': 'michellekelley@yahoo.com', 'Birthday': datetime.datetime(1996, 6, 1, 0, 0)}, 'Raymond Oconnor': {'Name': 'Raymond Oconnor', 'Phone': '609-555-8125', 'Email': 'jonathan47@martin.com', 'Birthday': datetime.datetime(2007, 8, 25, 0, 0)}, 'Andrew Thomas': {'Name': 'Andrew Thomas', 'Phone': '609-555-7520', 'Email': 'nbrock@black-compton.com', 'Birthday': datetime.datetime(2000, 12, 1, 0, 0)}, 'Benjamin Ward': {'Name': 'Benjamin Ward', 'Phone': '609-555-4955', 'Email': 'lisarussell@green-smith.net', 'Birthday': datetime.datetime(2006, 1, 26, 0, 0)}, 'Amanda Thompson': {'Name': 'Amanda Thompson', 'Phone': '609-555-4579', 'Email': 'eduardoadams@yahoo.com', 'Birthday': datetime.datetime(2006, 8, 7, 0, 0)}, 'Ashley Barton': {'Name': 'Ashley Barton', 'Phone': '609-555-1443', 'Email': 'johnmccoy@yahoo.com', 'Birthday': datetime.datetime(2004, 6, 5, 0, 0)}, 'Amber Gibson': {'Name': 'Amber Gibson', 'Phone': '609-555-8370', 'Email': 'mcclurebrian@yahoo.com', 'Birthday': datetime.datetime(2005, 5, 4, 0, 0)}, 'Katherine Gillespie': {'Name': 'Katherine Gillespie', 'Phone': '609-555-8589', 'Email': 'manuel05@hotmail.com', 'Birthday': datetime.datetime(2003, 8, 12, 0, 0)}, 'Ashley Smith': {'Name': 'Ashley Smith', 'Phone': '609-555-7918', 'Email': 'josephvillanueva@johnson.biz', 'Birthday': datetime.datetime(2001, 8, 9, 0, 0)}, 'Mark Collins': {'Name': 'Mark Collins', 'Phone': '609-555-4131', 'Email': 'thompsondarrell@hunt.info', 'Birthday': datetime.datetime(1997, 12, 5, 0, 0)}, 'Jeffrey Tucker': {'Name': 'Jeffrey Tucker', 'Phone': '609-555-1547', 'Email': 'christine38@skinner.com', 'Birthday': datetime.datetime(2006, 6, 6, 0, 0)}, 'Stephen Franklin': {'Name': 'Stephen Franklin', 'Phone': '609-555-5604', 'Email': 'tammy69@yahoo.com', 'Birthday': datetime.datetime(2004, 9, 8, 0, 0)}, 'Robin Thomas': {'Name': 'Robin Thomas', 'Phone': '609-555-8956', 'Email': 'rlewis@watts.info', 'Birthday': datetime.datetime(2011, 7, 11, 0, 0)}, 'av av': {'Name': 'av av', 'Phone': '5555555555', 'Email': 'asdf', 'Birthday': '07251989'}, 'bil': {'Name': 'bil', 'Phone': '2342342342342', 'Email': '3452345', 'Birthday': datetime.datetime(2025, 7, 25, 0, 0)}}\n"
     ]
    }
   ],
   "source": [
    "import datetime as dt\n",
    "\n",
    "name = \"\"\n",
    "phone = \"\"\n",
    "email = \"\"\n",
    "birthday = None\n",
    "\n",
    "def gather_contact():\n",
    "    global name\n",
    "    global phone\n",
    "    global email\n",
    "    global birthday\n",
    "    name = input(\"Enter name: \")\n",
    "    phone = input(\"Enter phone: \")\n",
    "    email = input(\"Enter email: \")\n",
    "    birthday = input(\"Enter birthday, make sure its in 00/00/0000 format: \")\n",
    "    # i = int\n",
    "    # if birthday ==  f'{i}{i}/{i}{i}/{i}{i}{i}{i}':\n",
    "    #     birthday = input(\"Enter birthday with right varibles, make sure its in 00/00/0000 format: \")\n",
    "    if \n",
    "    birthday = dt.datetime.strptime(birthday, '%m/%d/%Y')\n",
    "\n",
    "    return name, phone, email, birthday\n",
    "\n",
    "def gather_birthday():\n",
    "   month = input(\" enter birthday : \")\n",
    "   if month \n",
    "\n",
    "\n",
    "    birthday = input(\"Enter birthday, make sure its in 00/00/0000 format: \")\n",
    "    birthday = dt.datetime.strptime(birthday, '%m/%d/%Y')\n",
    "    return birthday\n",
    "\n",
    "\n",
    "def add_contact(name, phone, email, birthday):\n",
    "    \n",
    "    if name in info:\n",
    "        print(\"Contact already exists.\")\n",
    "        return False\n",
    "    \n",
    "    else:\n",
    "        info[name] = {'Name': name,'Phone': phone, 'Email': email, 'Birthday': birthday}\n",
    "        print(\"Contact added successfully.\")\n",
    "        return True\n",
    "\n",
    "print(info)\n",
    "gather_contact()\n",
    "add_contact(name, phone, email, birthday)\n",
    "\n",
    "\n",
    "print(info)"
   ]
  },
  {
   "cell_type": "code",
   "execution_count": 21,
   "metadata": {},
   "outputs": [
    {
     "name": "stdout",
     "output_type": "stream",
     "text": [
      "Wrong format, try again.\n"
     ]
    },
    {
     "ename": "TypeError",
     "evalue": "strptime() argument 1 must be str, not type",
     "output_type": "error",
     "traceback": [
      "\u001b[1;31m---------------------------------------------------------------------------\u001b[0m",
      "\u001b[1;31mTypeError\u001b[0m                                 Traceback (most recent call last)",
      "\u001b[1;32mc:\\Users\\green\\Documents\\2023 python class\\CIST2110-001-Programming-In-Python-HomeWork\\Project2Folder\\gather_contact.ipynb Cell 3\u001b[0m line \u001b[0;36m5\n\u001b[0;32m      <a href='vscode-notebook-cell:/c%3A/Users/green/Documents/2023%20python%20class/CIST2110-001-Programming-In-Python-HomeWork/Project2Folder/gather_contact.ipynb#W3sZmlsZQ%3D%3D?line=2'>3</a>\u001b[0m \u001b[39mwhile\u001b[39;00m waldo \u001b[39m==\u001b[39m \u001b[39m\"\u001b[39m\u001b[39mfat\u001b[39m\u001b[39m\"\u001b[39m:\n\u001b[0;32m      <a href='vscode-notebook-cell:/c%3A/Users/green/Documents/2023%20python%20class/CIST2110-001-Programming-In-Python-HomeWork/Project2Folder/gather_contact.ipynb#W3sZmlsZQ%3D%3D?line=3'>4</a>\u001b[0m   \u001b[39mtry\u001b[39;00m:\n\u001b[1;32m----> <a href='vscode-notebook-cell:/c%3A/Users/green/Documents/2023%20python%20class/CIST2110-001-Programming-In-Python-HomeWork/Project2Folder/gather_contact.ipynb#W3sZmlsZQ%3D%3D?line=4'>5</a>\u001b[0m     birthday \u001b[39m=\u001b[39m dt\u001b[39m.\u001b[39;49mdatetime\u001b[39m.\u001b[39;49mstrptime(birthday, \u001b[39m'\u001b[39;49m\u001b[39m%\u001b[39;49m\u001b[39mm/\u001b[39;49m\u001b[39m%d\u001b[39;49;00m\u001b[39m/\u001b[39;49m\u001b[39m%\u001b[39;49m\u001b[39mY\u001b[39;49m\u001b[39m'\u001b[39;49m)\n\u001b[0;32m      <a href='vscode-notebook-cell:/c%3A/Users/green/Documents/2023%20python%20class/CIST2110-001-Programming-In-Python-HomeWork/Project2Folder/gather_contact.ipynb#W3sZmlsZQ%3D%3D?line=5'>6</a>\u001b[0m     waldo \u001b[39m=\u001b[39m \u001b[39m\"\u001b[39m\u001b[39mskinny\u001b[39m\u001b[39m\"\u001b[39m\n\u001b[0;32m      <a href='vscode-notebook-cell:/c%3A/Users/green/Documents/2023%20python%20class/CIST2110-001-Programming-In-Python-HomeWork/Project2Folder/gather_contact.ipynb#W3sZmlsZQ%3D%3D?line=6'>7</a>\u001b[0m   \u001b[39mexcept\u001b[39;00m \u001b[39mValueError\u001b[39;00m:\n",
      "\u001b[1;31mTypeError\u001b[0m: strptime() argument 1 must be str, not type"
     ]
    }
   ],
   "source": [
    "  \n",
    "birthday = input(\"Enter birthday, make sure its in 00/00/0000 format: \")\n",
    "waldo = \"fat\"\n",
    "  try:\n",
    "    birthday = dt.datetime.strptime(birthday, '%m/%d/%Y')\n",
    "    waldo = \"skinny\"\n",
    "  except ValueError:\n",
    "    print(\"Wrong format, try again.\")\n",
    "    birthday = str\n",
    "    waldo = \"fat\""
   ]
  }
 ],
 "metadata": {
  "kernelspec": {
   "display_name": "venv",
   "language": "python",
   "name": "python3"
  },
  "language_info": {
   "codemirror_mode": {
    "name": "ipython",
    "version": 3
   },
   "file_extension": ".py",
   "mimetype": "text/x-python",
   "name": "python",
   "nbconvert_exporter": "python",
   "pygments_lexer": "ipython3",
   "version": "3.12.0"
  }
 },
 "nbformat": 4,
 "nbformat_minor": 2
}
