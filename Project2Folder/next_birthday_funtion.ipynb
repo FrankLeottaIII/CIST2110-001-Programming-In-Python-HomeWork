{
 "cells": [
  {
   "cell_type": "code",
   "execution_count": null,
   "metadata": {},
   "outputs": [],
   "source": [
    "#contacts[name_lower] = {'Name': name,'Phone': phone, 'Email': email, 'Birthday': birthday} "
   ]
  },
  {
   "cell_type": "code",
   "execution_count": 4,
   "metadata": {},
   "outputs": [
    {
     "name": "stdout",
     "output_type": "stream",
     "text": [
      "Contacts imported successfully.\n",
      "{'sean solis': {'Name': 'Sean Solis', 'Phone': '609-555-9647', 'Email': 'wparsons@beck.com', 'Birthday': datetime.datetime(1985, 10, 18, 0, 0)}, 'melissa ramsey': {'Name': 'Melissa Ramsey', 'Phone': '609-555-1564', 'Email': 'aprilmunoz@garrett.biz', 'Birthday': datetime.datetime(1920, 2, 10, 0, 0)}, 'heather clayton': {'Name': 'Heather Clayton', 'Phone': '609-555-2382', 'Email': 'alejandragarcia@roman-henderson.info', 'Birthday': datetime.datetime(1920, 1, 1, 0, 0)}, 'peter clark': {'Name': 'Peter Clark', 'Phone': '609-555-5561', 'Email': 'sandragill@chan.org', 'Birthday': datetime.datetime(1996, 10, 25, 0, 0)}, 'elizabeth wilson': {'Name': 'Elizabeth Wilson', 'Phone': '609-555-9018', 'Email': 'pattersonvalerie@hernandez.com', 'Birthday': datetime.datetime(2001, 5, 1, 0, 0)}, 'david ponce': {'Name': 'David Ponce', 'Phone': '609-555-6731', 'Email': 'john13@ramos.org', 'Birthday': datetime.datetime(2003, 8, 2, 0, 0)}, 'luke harvey': {'Name': 'Luke Harvey', 'Phone': '609-555-8934', 'Email': 'melanie75@simpson.info', 'Birthday': datetime.datetime(1996, 10, 6, 0, 0)}, 'katelyn hanson': {'Name': 'Katelyn Hanson', 'Phone': '609-555-4402', 'Email': 'michellekelley@yahoo.com', 'Birthday': datetime.datetime(1996, 6, 1, 0, 0)}, 'raymond oconnor': {'Name': 'Raymond Oconnor', 'Phone': '609-555-8125', 'Email': 'jonathan47@martin.com', 'Birthday': datetime.datetime(2007, 8, 25, 0, 0)}, 'andrew thomas': {'Name': 'Andrew Thomas', 'Phone': '609-555-7520', 'Email': 'nbrock@black-compton.com', 'Birthday': datetime.datetime(2000, 12, 1, 0, 0)}, 'benjamin ward': {'Name': 'Benjamin Ward', 'Phone': '609-555-4955', 'Email': 'lisarussell@green-smith.net', 'Birthday': datetime.datetime(2006, 1, 26, 0, 0)}, 'amanda thompson': {'Name': 'Amanda Thompson', 'Phone': '609-555-4579', 'Email': 'eduardoadams@yahoo.com', 'Birthday': datetime.datetime(2006, 8, 7, 0, 0)}, 'ashley barton': {'Name': 'Ashley Barton', 'Phone': '609-555-1443', 'Email': 'johnmccoy@yahoo.com', 'Birthday': datetime.datetime(2004, 6, 5, 0, 0)}, 'amber gibson': {'Name': 'Amber Gibson', 'Phone': '609-555-8370', 'Email': 'mcclurebrian@yahoo.com', 'Birthday': datetime.datetime(2005, 5, 4, 0, 0)}, 'katherine gillespie': {'Name': 'Katherine Gillespie', 'Phone': '609-555-8589', 'Email': 'manuel05@hotmail.com', 'Birthday': datetime.datetime(2003, 8, 12, 0, 0)}, 'ashley smith': {'Name': 'Ashley Smith', 'Phone': '609-555-7918', 'Email': 'josephvillanueva@johnson.biz', 'Birthday': datetime.datetime(2001, 8, 9, 0, 0)}, 'mark collins': {'Name': 'Mark Collins', 'Phone': '609-555-4131', 'Email': 'thompsondarrell@hunt.info', 'Birthday': datetime.datetime(1997, 12, 5, 0, 0)}, 'jeffrey tucker': {'Name': 'Jeffrey Tucker', 'Phone': '609-555-1547', 'Email': 'christine38@skinner.com', 'Birthday': datetime.datetime(2006, 6, 6, 0, 0)}, 'stephen franklin': {'Name': 'Stephen Franklin', 'Phone': '609-555-5604', 'Email': 'tammy69@yahoo.com', 'Birthday': datetime.datetime(2004, 9, 8, 0, 0)}, 'robin thomas': {'Name': 'Robin Thomas', 'Phone': '609-555-8956', 'Email': 'rlewis@watts.info', 'Birthday': datetime.datetime(2011, 7, 11, 0, 0)}}\n"
     ]
    },
    {
     "ename": "TypeError",
     "evalue": "can't compare datetime.datetime to datetime.date",
     "output_type": "error",
     "traceback": [
      "\u001b[1;31m---------------------------------------------------------------------------\u001b[0m",
      "\u001b[1;31mTypeError\u001b[0m                                 Traceback (most recent call last)",
      "\u001b[1;32mc:\\Users\\green\\Documents\\2023 python class\\CIST2110-001-Programming-In-Python-HomeWork\\Project2Folder\\next_birthday_funtion.ipynb Cell 1\u001b[0m line \u001b[0;36m5\n\u001b[0;32m     <a href='vscode-notebook-cell:/c%3A/Users/green/Documents/2023%20python%20class/CIST2110-001-Programming-In-Python-HomeWork/Project2Folder/next_birthday_funtion.ipynb#W1sZmlsZQ%3D%3D?line=52'>53</a>\u001b[0m         next_birthday_formatted \u001b[39m=\u001b[39m next_birthday\u001b[39m.\u001b[39mstrftime(\u001b[39m'\u001b[39m\u001b[39m%\u001b[39m\u001b[39mm/\u001b[39m\u001b[39m%d\u001b[39;00m\u001b[39m/\u001b[39m\u001b[39m%\u001b[39m\u001b[39mY\u001b[39m\u001b[39m'\u001b[39m)\n\u001b[0;32m     <a href='vscode-notebook-cell:/c%3A/Users/green/Documents/2023%20python%20class/CIST2110-001-Programming-In-Python-HomeWork/Project2Folder/next_birthday_funtion.ipynb#W1sZmlsZQ%3D%3D?line=53'>54</a>\u001b[0m         \u001b[39mprint\u001b[39m(\u001b[39mf\u001b[39m\u001b[39m\"\u001b[39m\u001b[39mNext birthday: \u001b[39m\u001b[39m{\u001b[39;00mnext_birthday_formatted\u001b[39m}\u001b[39;00m\u001b[39m - \u001b[39m\u001b[39m{\u001b[39;00mnext_name\u001b[39m}\u001b[39;00m\u001b[39m\"\u001b[39m)\n\u001b[1;32m---> <a href='vscode-notebook-cell:/c%3A/Users/green/Documents/2023%20python%20class/CIST2110-001-Programming-In-Python-HomeWork/Project2Folder/next_birthday_funtion.ipynb#W1sZmlsZQ%3D%3D?line=55'>56</a>\u001b[0m next_birthday()\n\u001b[0;32m     <a href='vscode-notebook-cell:/c%3A/Users/green/Documents/2023%20python%20class/CIST2110-001-Programming-In-Python-HomeWork/Project2Folder/next_birthday_funtion.ipynb#W1sZmlsZQ%3D%3D?line=61'>62</a>\u001b[0m \u001b[39m# def next_birthday():\u001b[39;00m\n\u001b[0;32m     <a href='vscode-notebook-cell:/c%3A/Users/green/Documents/2023%20python%20class/CIST2110-001-Programming-In-Python-HomeWork/Project2Folder/next_birthday_funtion.ipynb#W1sZmlsZQ%3D%3D?line=62'>63</a>\u001b[0m \u001b[39m#     global reader\u001b[39;00m\n\u001b[0;32m     <a href='vscode-notebook-cell:/c%3A/Users/green/Documents/2023%20python%20class/CIST2110-001-Programming-In-Python-HomeWork/Project2Folder/next_birthday_funtion.ipynb#W1sZmlsZQ%3D%3D?line=63'>64</a>\u001b[0m \u001b[39m#     #contacts = import_csv('path/to/contacts.csv')  # Replace 'path/to/contacts.csv' with the actual path to your CSV file\u001b[39;00m\n\u001b[1;32m   (...)\u001b[0m\n\u001b[0;32m     <a href='vscode-notebook-cell:/c%3A/Users/green/Documents/2023%20python%20class/CIST2110-001-Programming-In-Python-HomeWork/Project2Folder/next_birthday_funtion.ipynb#W1sZmlsZQ%3D%3D?line=77'>78</a>\u001b[0m \n\u001b[0;32m     <a href='vscode-notebook-cell:/c%3A/Users/green/Documents/2023%20python%20class/CIST2110-001-Programming-In-Python-HomeWork/Project2Folder/next_birthday_funtion.ipynb#W1sZmlsZQ%3D%3D?line=78'>79</a>\u001b[0m \u001b[39m# next_birthday()\u001b[39;00m\n",
      "\u001b[1;32mc:\\Users\\green\\Documents\\2023 python class\\CIST2110-001-Programming-In-Python-HomeWork\\Project2Folder\\next_birthday_funtion.ipynb Cell 1\u001b[0m line \u001b[0;36m4\n\u001b[0;32m     <a href='vscode-notebook-cell:/c%3A/Users/green/Documents/2023%20python%20class/CIST2110-001-Programming-In-Python-HomeWork/Project2Folder/next_birthday_funtion.ipynb#W1sZmlsZQ%3D%3D?line=43'>44</a>\u001b[0m \u001b[39mfor\u001b[39;00m contact \u001b[39min\u001b[39;00m info\u001b[39m.\u001b[39mvalues():\n\u001b[0;32m     <a href='vscode-notebook-cell:/c%3A/Users/green/Documents/2023%20python%20class/CIST2110-001-Programming-In-Python-HomeWork/Project2Folder/next_birthday_funtion.ipynb#W1sZmlsZQ%3D%3D?line=44'>45</a>\u001b[0m     birthday \u001b[39m=\u001b[39m contact[\u001b[39m'\u001b[39m\u001b[39mBirthday\u001b[39m\u001b[39m'\u001b[39m]\u001b[39m.\u001b[39mreplace(year\u001b[39m=\u001b[39mtoday\u001b[39m.\u001b[39myear)  \u001b[39m# Replace the year with the current year\u001b[39;00m\n\u001b[1;32m---> <a href='vscode-notebook-cell:/c%3A/Users/green/Documents/2023%20python%20class/CIST2110-001-Programming-In-Python-HomeWork/Project2Folder/next_birthday_funtion.ipynb#W1sZmlsZQ%3D%3D?line=45'>46</a>\u001b[0m     \u001b[39mif\u001b[39;00m today \u001b[39m<\u001b[39;49m\u001b[39m=\u001b[39;49m birthday \u001b[39m<\u001b[39;49m\u001b[39m=\u001b[39;49m today \u001b[39m+\u001b[39;49m dt\u001b[39m.\u001b[39;49mtimedelta(days\u001b[39m=\u001b[39;49m\u001b[39m30\u001b[39;49m):\n\u001b[0;32m     <a href='vscode-notebook-cell:/c%3A/Users/green/Documents/2023%20python%20class/CIST2110-001-Programming-In-Python-HomeWork/Project2Folder/next_birthday_funtion.ipynb#W1sZmlsZQ%3D%3D?line=46'>47</a>\u001b[0m         \u001b[39mif\u001b[39;00m next_birthday \u001b[39mis\u001b[39;00m \u001b[39mNone\u001b[39;00m \u001b[39mor\u001b[39;00m birthday \u001b[39m<\u001b[39m next_birthday:\n\u001b[0;32m     <a href='vscode-notebook-cell:/c%3A/Users/green/Documents/2023%20python%20class/CIST2110-001-Programming-In-Python-HomeWork/Project2Folder/next_birthday_funtion.ipynb#W1sZmlsZQ%3D%3D?line=47'>48</a>\u001b[0m             next_birthday \u001b[39m=\u001b[39m birthday\n",
      "\u001b[1;31mTypeError\u001b[0m: can't compare datetime.datetime to datetime.date"
     ]
    }
   ],
   "source": [
    "import csv\n",
    "import datetime as dt\n",
    "import time\n",
    "#next_birthday funtion\n",
    "# next_birthday() - This function will display the next birthday. \n",
    "# The function will take no parameters. The function will return nothing. ---#good---\n",
    "#  The function will display a message if there are no contacts in the dictionary.\n",
    "#  The function will display a message if there are no birthdays in the next 30 days.\n",
    "#  The function will display the next birthday and name if there is a birthday in the next 30 days.\n",
    "#  Use string formatting to display the next birthday.\n",
    "#  The next birthday should be sorted by the next birthday.\n",
    "#  The next birthday should be formatted as mm/dd/yyyy.\n",
    "# Hint: We dont care about the year, only the month and day.\n",
    "#  There are many ways to solve this issue. 1st you could replace all the years with the current year.\n",
    "# 2nd you could use the month and day attributes of the datetime object to compare the month and day of the birthday to the \n",
    "# current month and day.\n",
    "\n",
    "def import_csv(csv_file):\n",
    "    try:\n",
    "        with open(csv_file, 'r') as file: # open file in read mode\n",
    "            reader = csv.reader(file) # create reader object, a reader object is an iterator.  It will read one line at a time\n",
    "            next(reader)  # Skip the first line\n",
    "            contacts = {} # create empty dictionary\n",
    "            for row in reader: # loop through reader object, to define the values of the dictionary\n",
    "                name = row[0] # name is the key, row[0] is the first column in the csv file\n",
    "                phone = row[1] # phone is the key, row[1] is the second column in the csv file\n",
    "                email = row[2]\n",
    "                birthday = dt.datetime.strptime(row[3], '%m/%d/%Y')\n",
    "                name_lower = name.lower()\n",
    "                #birthday = dt.datetime.strptime(row[3], '%m/%d/%Y') # \n",
    "                contacts[name_lower] = {'Name': name,'Phone': phone, 'Email': email, 'Birthday': birthday} \n",
    "            print(\"Contacts imported successfully.\")\n",
    "            return contacts\n",
    "    except FileNotFoundError:\n",
    "        print(\"File does not exist.\")\n",
    "\n",
    "info = import_csv(\"contacts.csv\")    \n",
    "print(info)\n",
    "\n",
    "\n",
    "def next_birthday():\n",
    "    today = dt.date.today()\n",
    "    next_birthday = None\n",
    "    for contact in info.values():\n",
    "        global name\n",
    "        birthday = contact[name]['Birthday'].replace(year=today.year)  # Replace the year with the current year\n",
    "        if today <= birthday <= today + dt.timedelta(days=30):\n",
    "            if next_birthday is None or birthday < next_birthday:\n",
    "                next_birthday = birthday\n",
    "                next_name = contact['Name']\n",
    "    if next_birthday is None:\n",
    "        print(\"No upcoming birthdays.\")\n",
    "    else:\n",
    "        next_birthday_formatted = next_birthday.strftime('%m/%d/%Y')\n",
    "        print(f\"Next birthday: {next_birthday_formatted} - {next_name}\")\n",
    "\n",
    "next_birthday()\n",
    "\n",
    "\n",
    "\n",
    "\n",
    "\n",
    "# def next_birthday():\n",
    "#     global reader\n",
    "#     #contacts = import_csv('path/to/contacts.csv')  # Replace 'path/to/contacts.csv' with the actual path to your CSV file\n",
    "#     today = dt.date.today()\n",
    "#     next_birthday = None\n",
    "#     for reader in reader.values():\n",
    "#         birthday = reader['Birthday'].replace(year=today.year)  # Replace the year with the current year\n",
    "#         if today <= birthday <= today + dt.timedelta(days=30):\n",
    "#             if next_birthday is None or birthday < next_birthday:\n",
    "#                 next_birthday = birthday\n",
    "#                 next_name = reader['Name']\n",
    "#     if next_birthday is None:\n",
    "#         print(\"No upcoming birthdays.\")\n",
    "#     else:\n",
    "#         next_birthday_formatted = next_birthday.strftime('%m/%d/%Y')\n",
    "#         print(f\"Next birthday: {next_birthday_formatted} - {next_name}\")\n",
    "\n",
    "# next_birthday()"
   ]
  }
 ],
 "metadata": {
  "kernelspec": {
   "display_name": "venv",
   "language": "python",
   "name": "python3"
  },
  "language_info": {
   "codemirror_mode": {
    "name": "ipython",
    "version": 3
   },
   "file_extension": ".py",
   "mimetype": "text/x-python",
   "name": "python",
   "nbconvert_exporter": "python",
   "pygments_lexer": "ipython3",
   "version": "3.12.0"
  }
 },
 "nbformat": 4,
 "nbformat_minor": 2
}
