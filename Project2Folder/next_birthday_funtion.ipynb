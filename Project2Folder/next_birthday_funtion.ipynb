{
 "cells": [
  {
   "cell_type": "code",
   "execution_count": 1,
   "metadata": {},
   "outputs": [],
   "source": [
    "import datetime\n",
    "#next_birthday funtion\n",
    "# next_birthday() - This function will display the next birthday. \n",
    "# The function will take no parameters. The function will return nothing. ---#good---\n",
    "#  The function will display a message if there are no contacts in the dictionary.\n",
    "#  The function will display a message if there are no birthdays in the next 30 days.\n",
    "#  The function will display the next birthday and name if there is a birthday in the next 30 days.\n",
    "#  Use string formatting to display the next birthday.\n",
    "#  The next birthday should be sorted by the next birthday.\n",
    "#  The next birthday should be formatted as mm/dd/yyyy.\n",
    "# Hint: We dont care about the year, only the month and day.\n",
    "#  There are many ways to solve this issue. 1st you could replace all the years with the current year.\n",
    "# 2nd you could use the month and day attributes of the datetime object to compare the month and day of the birthday to the \n",
    "# current month and day.\n",
    "\n",
    "def import_csv(csv_file):\n",
    "    try:\n",
    "        with open(csv_file, 'r') as file: # open file in read mode\n",
    "            reader = csv.reader(file) # create reader object, a reader object is an iterator.  It will read one line at a time\n",
    "            next(reader)  # Skip the first line\n",
    "            contacts = {} # create empty dictionary\n",
    "            for row in reader: # loop through reader object, to define the values of the dictionary\n",
    "                name = row[0] # name is the key, row[0] is the first column in the csv file\n",
    "                phone = row[1] # phone is the key, row[1] is the second column in the csv file\n",
    "                email = row[2]\n",
    "                birthday = dt.datetime.strptime(row[3], '%m/%d/%Y')\n",
    "                name_lower = name.lower()\n",
    "                #birthday = dt.datetime.strptime(row[3], '%m/%d/%Y') # \n",
    "                contacts[name_lower] = {'Name': name,'Phone': phone, 'Email': email, 'Birthday': birthday} \n",
    "            print(\"Contacts imported successfully.\")\n",
    "            return contacts\n",
    "    except FileNotFoundError:\n",
    "        print(\"File does not exist.\")\n",
    "\n",
    "def next_birthday():\n",
    "    contacts = import_csv('path/to/contacts.csv')  # Replace 'path/to/contacts.csv' with the actual path to your CSV file\n",
    "    today = datetime.date.today()\n",
    "    next_birthday = None\n",
    "    for contact in contacts.values():\n",
    "        birthday = contact['Birthday'].replace(year=today.year)  # Replace the year with the current year\n",
    "        if today <= birthday <= today + datetime.timedelta(days=30):\n",
    "            if next_birthday is None or birthday < next_birthday:\n",
    "                next_birthday = birthday\n",
    "                next_name = contact['Name']\n",
    "    if next_birthday is None:\n",
    "        print(\"No upcoming birthdays.\")\n",
    "    else:\n",
    "        next_birthday_formatted = next_birthday.strftime('%m/%d/%Y')\n",
    "        print(f\"Next birthday: {next_birthday_formatted} - {next_name}\")\n",
    "\n"
   ]
  }
 ],
 "metadata": {
  "kernelspec": {
   "display_name": "venv",
   "language": "python",
   "name": "python3"
  },
  "language_info": {
   "codemirror_mode": {
    "name": "ipython",
    "version": 3
   },
   "file_extension": ".py",
   "mimetype": "text/x-python",
   "name": "python",
   "nbconvert_exporter": "python",
   "pygments_lexer": "ipython3",
   "version": "3.12.0"
  }
 },
 "nbformat": 4,
 "nbformat_minor": 2
}
