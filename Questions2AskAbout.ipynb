{
 "cells": [
  {
   "cell_type": "code",
   "execution_count": 5,
   "metadata": {},
   "outputs": [
    {
     "name": "stdout",
     "output_type": "stream",
     "text": [
      "512\n"
     ]
    }
   ],
   "source": [
    "\"\"\"# Path: Untitled-2.ipynb\n",
    "These are questions for the first \n",
    "\n",
    "\n",
    "This code just repeats and does not work for its intended purpose... why does it not work??\n",
    "\n",
    "user_imput1 = 0\n",
    "user_input1 = input(\"Enter a number: \")\n",
    "while user_input1  != int is False:\n",
    "    print(\"Please enter a number\")\n",
    "    user_input1 = input(\"Enter a number: \")\n",
    "    if user_input1 == int is True:\n",
    "        break\n",
    "user_input1 == int\n",
    "user_input1 ** 2 \n",
    "\n",
    "\n",
    "\n",
    "\n",
    "\n",
    "\n",
    "\n",
    "\"\"\"\n",
    "print(2**2)\n",
    "\n",
    "# Path: Untitled-2.ipynb"
   ]
  }
 ],
 "metadata": {
  "kernelspec": {
   "display_name": "Python 3",
   "language": "python",
   "name": "python3"
  },
  "language_info": {
   "codemirror_mode": {
    "name": "ipython",
    "version": 3
   },
   "file_extension": ".py",
   "mimetype": "text/x-python",
   "name": "python",
   "nbconvert_exporter": "python",
   "pygments_lexer": "ipython3",
   "version": "3.11.5"
  }
 },
 "nbformat": 4,
 "nbformat_minor": 2
}
