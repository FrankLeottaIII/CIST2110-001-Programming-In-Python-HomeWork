{
 "cells": [
  {
   "cell_type": "markdown",
   "metadata": {},
   "source": [
    "# HW7\n",
    "\n",
    "Name:"
   ]
  },
  {
   "cell_type": "code",
   "execution_count": null,
   "metadata": {},
   "outputs": [],
   "source": [
    "# inside of the HW7_Files folder there is a text file called Dracula.txt that we will be using for this assignment\n",
    "\n",
    "# read in the Dracula.txt file and store it in a variable called dracula_text\n",
    "# Note the file is utf-8 encoded\n",
    "\n",
    "with open('Dracula.txt', 'r', encoding='utf-8') as D:\n",
    "    dracula_text = D.read()\n",
    "\n",
    "\n",
    "print(dracula_text)\n",
    "\n",
    "#\"\"\" remember to reference lab 8 in week 10 folder \"\"\""
   ]
  },
  {
   "cell_type": "code",
   "execution_count": null,
   "metadata": {},
   "outputs": [],
   "source": [
    "# Create a method that will get the text inbetween the Gutenberg and START OF THIS PROJECT GUTENBERG EBOOK DRACULA lines. Name the method get_text(text) and have it return the text inbetween the two lines.\n",
    "\n",
    "# *** START OF THE PROJECT GUTENBERG EBOOK DRACULA ***\n",
    "# *** END OF THE PROJECT GUTENBERG EBOOK DRACULA ***\n",
    "\n",
    "# Update the variable called dracula_text that is the result of calling the get_text method on the dracula_text variable\n",
    "with open('Dracula.txt', 'r', encoding='utf-8') as D:\n",
    "    dracula_text = D.read()\n",
    "\n",
    "def get_text(text):\n",
    "    \"\"\" summery\n",
    "     remove the text before and after the book\n",
    "\n",
    "    Parameters\n",
    "    ----------\n",
    "    text : TYPE\n",
    "        DESCRIPTION.\n",
    "\n",
    "    Returns\n",
    "    -------\n",
    "    text[startpoint:endpoint] : TYPE\n",
    "        DESCRIPTION.\n",
    "\n",
    "    \"\"\"\n",
    "    startpoint = text.find('*** START OF THE PROJECT GUTENBERG EBOOK DRACULA ***')\n",
    "    endpoint = text.find('*** END OF THE PROJECT GUTENBERG EBOOK DRACULA ***')\n",
    "\n",
    "\n",
    "    return text[startpoint+52:endpoint] #it should work, but it doesn't\n",
    "#    it didnt work because of spelling error... \n",
    "# also I got help from my professor and the 52 is the number of characters in the string, so you can do that with any string\n",
    "#useful to know.\n",
    " #    print(startpoint) used to see what was wrong,  both of these are useful to know\n",
    "    # print(endpoint)\n",
    "\n",
    "dracula_text_filtered = get_text(dracula_text)\n",
    "print(dracula_text_filtered)\n",
    "\n"
   ]
  },
  {
   "cell_type": "code",
   "execution_count": null,
   "metadata": {},
   "outputs": [],
   "source": [
    "# Clean the text by removing all punctuation and numbers. You can use the replace method to do this. Replace all punctuation and numbers with an empty string.\n",
    "cleaned_dracula = dracula_text_filtered.replace('.','').replace(',','').replace('\"','').replace('“','').replace('”','').replace('!','').replace('?','').replace(':','').replace(';','').replace('_','').replace('\"','').replace('--',' ').replace('[','').replace(']','').replace('{','').replace('}','').replace('(','').replace(')','').replace('&','').replace('=','').replace('>','').replace('0','').replace('1','').replace('2','').replace('3','').replace('4','').replace('5','').replace('6','').replace('7','').replace('8','').replace('9','').replace('*       *       *       *       *','').replace('***','').lower().split()\n",
    "\n",
    "#print(\"this is the text without punctuation, contained in a list:\", cleaned_dracula)\n",
    "#print(len(cleaned_dracula))  Number of words in the book\n",
    "# print(' '.join(cleaned_dracula)) #this is the text without punctuation, contained in a string')\n",
    "#note: the -- needs to be replaced with a space, otherwise it will be counted as a word and ruin the word count"
   ]
  },
  {
   "cell_type": "code",
   "execution_count": 44,
   "metadata": {},
   "outputs": [
    {
     "name": "stdout",
     "output_type": "stream",
     "text": [
      "the total number of words in the text is: 161426\n",
      "the total number of unique words in the text is: 9894\n",
      "the word vampire is used 24 times in the text\n",
      "the name of chapter 5 is: CHAPTER V. Letters—Lucy and Mina\n",
      "\n",
      "['letter', 'from', 'miss', 'mina', 'murray', 'to', 'miss', 'lucy', 'westenra', 'may', 'my', 'dearest', 'lucy', 'forgive', 'my', 'long', 'delay', 'in', 'writing', 'but', 'i', 'have', 'been', 'simply', 'overwhelmed', 'with', 'work', 'the', 'life', 'of', 'an', 'assistant', 'schoolmistress', 'is', 'sometimes', 'trying', 'i', 'am', 'longing', 'to', 'be', 'with', 'you', 'and', 'by', 'the', 'sea', 'where', 'we', 'can', 'talk', 'together', 'freely', 'and', 'build', 'our', 'castles', 'in', 'the', 'air', 'i', 'have', 'been', 'working', 'very', 'hard', 'lately', 'because', 'i', 'want', 'to', 'keep', 'up', 'with', 'jonathan’s', 'studies', 'and', 'i', 'have', 'been', 'practising', 'shorthand', 'very', 'assiduously', 'when', 'we', 'are', 'married', 'i', 'shall', 'be', 'able', 'to', 'be', 'useful', 'to', 'jonathan', 'and', 'if', 'i', 'can', 'stenograph', 'well', 'enough', 'i', 'can', 'take', 'down', 'what', 'he', 'wants', 'to', 'say', 'in', 'this', 'way', 'and', 'write', 'it', 'out', 'for', 'him', 'on', 'the', 'typewriter', 'at', 'which', 'also', 'i', 'am', 'practising', 'very', 'hard', 'he', 'and', 'i', 'sometimes', 'write', 'letters', 'in', 'shorthand', 'and', 'he', 'is', 'keeping', 'a', 'stenographic', 'journal', 'of', 'his', 'travels', 'abroad', 'when', 'i', 'am', 'with', 'you', 'i', 'shall', 'keep', 'a', 'diary', 'in', 'the', 'same', 'way', 'i', 'don’t', 'mean', 'one', 'of', 'those', 'two-pages-to-the-week-with-sunday-squeezed-in-a-corner', 'diaries', 'but', 'a', 'sort', 'of', 'journal', 'which', 'i', 'can', 'write', 'in', 'whenever', 'i', 'feel', 'inclined', 'i', 'do', 'not', 'suppose', 'there', 'will', 'be', 'much', 'of', 'interest', 'to', 'other', 'people', 'but', 'it', 'is', 'not', 'intended', 'for', 'them', 'i', 'may', 'show', 'it', 'to', 'jonathan', 'some', 'day', 'if', 'there', 'is', 'in', 'it', 'anything', 'worth', 'sharing', 'but', 'it', 'is', 'really', 'an', 'exercise', 'book', 'i', 'shall', 'try', 'to', 'do', 'what', 'i', 'see', 'lady', 'journalists', 'do', 'interviewing', 'and', 'writing', 'descriptions', 'and', 'trying', 'to', 'remember', 'conversations', 'i', 'am', 'told', 'that', 'with', 'a', 'little', 'practice', 'one', 'can', 'remember', 'all', 'that', 'goes', 'on', 'or', 'that', 'one', 'hears', 'said', 'during', 'a', 'day', 'however', 'we', 'shall', 'see', 'i', 'will', 'tell', 'you', 'of', 'my', 'little', 'plans', 'when', 'we', 'meet', 'i', 'have', 'just', 'had', 'a', 'few', 'hurried', 'lines', 'from', 'jonathan', 'from', 'transylvania', 'he', 'is', 'well', 'and', 'will', 'be', 'returning', 'in', 'about', 'a', 'week', 'i', 'am', 'longing', 'to', 'hear', 'all', 'his', 'news', 'it', 'must', 'be', 'so', 'nice', 'to', 'see', 'strange', 'countries', 'i', 'wonder', 'if', 'we', 'i', 'mean', 'jonathan', 'and', 'i', 'shall', 'ever', 'see', 'them', 'together', 'there', 'is', 'the', 'ten', 'o’clock', 'bell', 'ringing', 'good-bye', 'your', 'loving', 'mina', 'tell', 'me', 'all', 'the', 'news', 'when', 'you', 'write', 'you', 'have', 'not', 'told', 'me', 'anything', 'for', 'a', 'long', 'time', 'i', 'hear', 'rumours', 'and', 'especially', 'of', 'a', 'tall', 'handsome', 'curly-haired', 'man', 'letter', 'lucy', 'westenra', 'to', 'mina', 'murray', 'chatham', 'street', 'wednesday', 'my', 'dearest', 'mina', 'i', 'must', 'say', 'you', 'tax', 'me', 'very', 'unfairly', 'with', 'being', 'a', 'bad', 'correspondent', 'i', 'wrote', 'to', 'you', 'twice', 'since', 'we', 'parted', 'and', 'your', 'last', 'letter', 'was', 'only', 'your', 'second', 'besides', 'i', 'have', 'nothing', 'to', 'tell', 'you', 'there', 'is', 'really', 'nothing', 'to', 'interest', 'you', 'town', 'is', 'very', 'pleasant', 'just', 'now', 'and', 'we', 'go', 'a', 'good', 'deal', 'to', 'picture-galleries', 'and', 'for', 'walks', 'and', 'rides', 'in', 'the', 'park', 'as', 'to', 'the', 'tall', 'curly-haired', 'man', 'i', 'suppose', 'it', 'was', 'the', 'one', 'who', 'was', 'with', 'me', 'at', 'the', 'last', 'pop', 'some', 'one', 'has', 'evidently', 'been', 'telling', 'tales', 'that', 'was', 'mr', 'holmwood', 'he', 'often', 'comes', 'to', 'see', 'us', 'and', 'he', 'and', 'mamma', 'get', 'on', 'very', 'well', 'together', 'they', 'have', 'so', 'many', 'things', 'to', 'talk', 'about', 'in', 'common', 'we', 'met', 'some', 'time', 'ago', 'a', 'man', 'that', 'would', 'just', 'do', 'for', 'you', 'if', 'you', 'were', 'not', 'already', 'engaged', 'to', 'jonathan', 'he', 'is', 'an', 'excellent', 'parti', 'being', 'handsome', 'well', 'off', 'and', 'of', 'good', 'birth', 'he', 'is', 'a', 'doctor', 'and', 'really', 'clever', 'just', 'fancy', 'he', 'is', 'only', 'nine-and-twenty', 'and', 'he', 'has', 'an', 'immense', 'lunatic', 'asylum', 'all', 'under', 'his', 'own', 'care', 'mr', 'holmwood', 'introduced', 'him', 'to', 'me', 'and', 'he', 'called', 'here', 'to', 'see', 'us', 'and', 'often', 'comes', 'now', 'i', 'think', 'he', 'is', 'one', 'of', 'the', 'most', 'resolute', 'men', 'i', 'ever', 'saw', 'and', 'yet', 'the', 'most', 'calm', 'he', 'seems', 'absolutely', 'imperturbable', 'i', 'can', 'fancy', 'what', 'a', 'wonderful', 'power', 'he', 'must', 'have', 'over', 'his', 'patients', 'he', 'has', 'a', 'curious', 'habit', 'of', 'looking', 'one', 'straight', 'in', 'the', 'face', 'as', 'if', 'trying', 'to', 'read', 'one’s', 'thoughts', 'he', 'tries', 'this', 'on', 'very', 'much', 'with', 'me', 'but', 'i', 'flatter', 'myself', 'he', 'has', 'got', 'a', 'tough', 'nut', 'to', 'crack', 'i', 'know', 'that', 'from', 'my', 'glass', 'do', 'you', 'ever', 'try', 'to', 'read', 'your', 'own', 'face', 'i', 'do', 'and', 'i', 'can', 'tell', 'you', 'it', 'is', 'not', 'a', 'bad', 'study', 'and', 'gives', 'you', 'more', 'trouble', 'than', 'you', 'can', 'well', 'fancy', 'if', 'you', 'have', 'never', 'tried', 'it', 'he', 'says', 'that', 'i', 'afford', 'him', 'a', 'curious', 'psychological', 'study', 'and', 'i', 'humbly', 'think', 'i', 'do', 'i', 'do', 'not', 'as', 'you', 'know', 'take', 'sufficient', 'interest', 'in', 'dress', 'to', 'be', 'able', 'to', 'describe', 'the', 'new', 'fashions', 'dress', 'is', 'a', 'bore', 'that', 'is', 'slang', 'again', 'but', 'never', 'mind', 'arthur', 'says', 'that', 'every', 'day', 'there', 'it', 'is', 'all', 'out', 'mina', 'we', 'have', 'told', 'all', 'our', 'secrets', 'to', 'each', 'other', 'since', 'we', 'were', 'children', 'we', 'have', 'slept', 'together', 'and', 'eaten', 'together', 'and', 'laughed', 'and', 'cried', 'together', 'and', 'now', 'though', 'i', 'have', 'spoken', 'i', 'would', 'like', 'to', 'speak', 'more', 'oh', 'mina', 'couldn’t', 'you', 'guess', 'i', 'love', 'him', 'i', 'am', 'blushing', 'as', 'i', 'write', 'for', 'although', 'i', 'think', 'he', 'loves', 'me', 'he', 'has', 'not', 'told', 'me', 'so', 'in', 'words', 'but', 'oh', 'mina', 'i', 'love', 'him', 'i', 'love', 'him', 'i', 'love', 'him', 'there', 'that', 'does', 'me', 'good', 'i', 'wish', 'i', 'were', 'with', 'you', 'dear', 'sitting', 'by', 'the', 'fire', 'undressing', 'as', 'we', 'used', 'to', 'sit', 'and', 'i', 'would', 'try', 'to', 'tell', 'you', 'what', 'i', 'feel', 'i', 'do', 'not', 'know', 'how', 'i', 'am', 'writing', 'this', 'even', 'to', 'you', 'i', 'am', 'afraid', 'to', 'stop', 'or', 'i', 'should', 'tear', 'up', 'the', 'letter', 'and', 'i', 'don’t', 'want', 'to', 'stop', 'for', 'i', 'do', 'so', 'want', 'to', 'tell', 'you', 'all', 'let', 'me', 'hear', 'from', 'you', 'at', 'once', 'and', 'tell', 'me', 'all', 'that', 'you', 'think', 'about', 'it', 'mina', 'i', 'must', 'stop', 'good-night', 'bless', 'me', 'in', 'your', 'prayers', 'and', 'mina', 'pray', 'for', 'my', 'happiness', 'lucy', 'ps', 'i', 'need', 'not', 'tell', 'you', 'this', 'is', 'a', 'secret', 'good-night', 'again', 'l', 'letter', 'lucy', 'westenra', 'to', 'mina', 'murray', 'may', 'my', 'dearest', 'mina', 'thanks', 'and', 'thanks', 'and', 'thanks', 'again', 'for', 'your', 'sweet', 'letter', 'it', 'was', 'so', 'nice', 'to', 'be', 'able', 'to', 'tell', 'you', 'and', 'to', 'have', 'your', 'sympathy', 'my', 'dear', 'it', 'never', 'rains', 'but', 'it', 'pours', 'how', 'true', 'the', 'old', 'proverbs', 'are', 'here', 'am', 'i', 'who', 'shall', 'be', 'twenty', 'in', 'september', 'and', 'yet', 'i', 'never', 'had', 'a', 'proposal', 'till', 'to-day', 'not', 'a', 'real', 'proposal', 'and', 'to-day', 'i', 'have', 'had', 'three', 'just', 'fancy', 'three', 'proposals', 'in', 'one', 'day', 'isn’t', 'it', 'awful', 'i', 'feel', 'sorry', 'really', 'and', 'truly', 'sorry', 'for', 'two', 'of', 'the', 'poor', 'fellows', 'oh', 'mina', 'i', 'am', 'so', 'happy', 'that', 'i', 'don’t', 'know', 'what', 'to', 'do', 'with', 'myself', 'and', 'three', 'proposals', 'but', 'for', 'goodness’', 'sake', 'don’t', 'tell', 'any', 'of', 'the', 'girls', 'or', 'they', 'would', 'be', 'getting', 'all', 'sorts', 'of', 'extravagant', 'ideas', 'and', 'imagining', 'themselves', 'injured', 'and', 'slighted', 'if', 'in', 'their', 'very', 'first', 'day', 'at', 'home', 'they', 'did', 'not', 'get', 'six', 'at', 'least', 'some', 'girls', 'are', 'so', 'vain', 'you', 'and', 'i', 'mina', 'dear', 'who', 'are', 'engaged', 'and', 'are', 'going', 'to', 'settle', 'down', 'soon', 'soberly', 'into', 'old', 'married', 'women', 'can', 'despise', 'vanity', 'well', 'i', 'must', 'tell', 'you', 'about', 'the', 'three', 'but', 'you', 'must', 'keep', 'it', 'a', 'secret', 'dear', 'from', 'every', 'one', 'except', 'of', 'course', 'jonathan', 'you', 'will', 'tell', 'him', 'because', 'i', 'would', 'if', 'i', 'were', 'in', 'your', 'place', 'certainly', 'tell', 'arthur', 'a', 'woman', 'ought', 'to', 'tell', 'her', 'husband', 'everything', 'don’t', 'you', 'think', 'so', 'dear', 'and', 'i', 'must', 'be', 'fair', 'men', 'like', 'women', 'certainly', 'their', 'wives', 'to', 'be', 'quite', 'as', 'fair', 'as', 'they', 'are', 'and', 'women', 'i', 'am', 'afraid', 'are', 'not', 'always', 'quite', 'as', 'fair', 'as', 'they', 'should', 'be', 'well', 'my', 'dear', 'number', 'one', 'came', 'just', 'before', 'lunch', 'i', 'told', 'you', 'of', 'him', 'dr', 'john', 'seward', 'the', 'lunatic-asylum', 'man', 'with', 'the', 'strong', 'jaw', 'and', 'the', 'good', 'forehead', 'he', 'was', 'very', 'cool', 'outwardly', 'but', 'was', 'nervous', 'all', 'the', 'same', 'he', 'had', 'evidently', 'been', 'schooling', 'himself', 'as', 'to', 'all', 'sorts', 'of', 'little', 'things', 'and', 'remembered', 'them', 'but', 'he', 'almost', 'managed', 'to', 'sit', 'down', 'on', 'his', 'silk', 'hat', 'which', 'men', 'don’t', 'generally', 'do', 'when', 'they', 'are', 'cool', 'and', 'then', 'when', 'he', 'wanted', 'to', 'appear', 'at', 'ease', 'he', 'kept', 'playing', 'with', 'a', 'lancet', 'in', 'a', 'way', 'that', 'made', 'me', 'nearly', 'scream', 'he', 'spoke', 'to', 'me', 'mina', 'very', 'straightforwardly', 'he', 'told', 'me', 'how', 'dear', 'i', 'was', 'to', 'him', 'though', 'he', 'had', 'known', 'me', 'so', 'little', 'and', 'what', 'his', 'life', 'would', 'be', 'with', 'me', 'to', 'help', 'and', 'cheer', 'him', 'he', 'was', 'going', 'to', 'tell', 'me', 'how', 'unhappy', 'he', 'would', 'be', 'if', 'i', 'did', 'not', 'care', 'for', 'him', 'but', 'when', 'he', 'saw', 'me', 'cry', 'he', 'said', 'that', 'he', 'was', 'a', 'brute', 'and', 'would', 'not', 'add', 'to', 'my', 'present', 'trouble', 'then', 'he', 'broke', 'off', 'and', 'asked', 'if', 'i', 'could', 'love', 'him', 'in', 'time', 'and', 'when', 'i', 'shook', 'my', 'head', 'his', 'hands', 'trembled', 'and', 'then', 'with', 'some', 'hesitation', 'he', 'asked', 'me', 'if', 'i', 'cared', 'already', 'for', 'any', 'one', 'else', 'he', 'put', 'it', 'very', 'nicely', 'saying', 'that', 'he', 'did', 'not', 'want', 'to', 'wring', 'my', 'confidence', 'from', 'me', 'but', 'only', 'to', 'know', 'because', 'if', 'a', 'woman’s', 'heart', 'was', 'free', 'a', 'man', 'might', 'have', 'hope', 'and', 'then', 'mina', 'i', 'felt', 'a', 'sort', 'of', 'duty', 'to', 'tell', 'him', 'that', 'there', 'was', 'some', 'one', 'i', 'only', 'told', 'him', 'that', 'much', 'and', 'then', 'he', 'stood', 'up', 'and', 'he', 'looked', 'very', 'strong', 'and', 'very', 'grave', 'as', 'he', 'took', 'both', 'my', 'hands', 'in', 'his', 'and', 'said', 'he', 'hoped', 'i', 'would', 'be', 'happy', 'and', 'that', 'if', 'i', 'ever', 'wanted', 'a', 'friend', 'i', 'must', 'count', 'him', 'one', 'of', 'my', 'best', 'oh', 'mina', 'dear', 'i', 'can’t', 'help', 'crying', 'and', 'you', 'must', 'excuse', 'this', 'letter', 'being', 'all', 'blotted', 'being', 'proposed', 'to', 'is', 'all', 'very', 'nice', 'and', 'all', 'that', 'sort', 'of', 'thing', 'but', 'it', 'isn’t', 'at', 'all', 'a', 'happy', 'thing', 'when', 'you', 'have', 'to', 'see', 'a', 'poor', 'fellow', 'whom', 'you', 'know', 'loves', 'you', 'honestly', 'going', 'away', 'and', 'looking', 'all', 'broken-hearted', 'and', 'to', 'know', 'that', 'no', 'matter', 'what', 'he', 'may', 'say', 'at', 'the', 'moment', 'you', 'are', 'passing', 'quite', 'out', 'of', 'his', 'life', 'my', 'dear', 'i', 'must', 'stop', 'here', 'at', 'present', 'i', 'feel', 'so', 'miserable', 'though', 'i', 'am', 'so', 'happy', 'evening', 'arthur', 'has', 'just', 'gone', 'and', 'i', 'feel', 'in', 'better', 'spirits', 'than', 'when', 'i', 'left', 'off', 'so', 'i', 'can', 'go', 'on', 'telling', 'you', 'about', 'the', 'day', 'well', 'my', 'dear', 'number', 'two', 'came', 'after', 'lunch', 'he', 'is', 'such', 'a', 'nice', 'fellow', 'an', 'american', 'from', 'texas', 'and', 'he', 'looks', 'so', 'young', 'and', 'so', 'fresh', 'that', 'it', 'seems', 'almost', 'impossible', 'that', 'he', 'has', 'been', 'to', 'so', 'many', 'places', 'and', 'has', 'had', 'such', 'adventures', 'i', 'sympathise', 'with', 'poor', 'desdemona', 'when', 'she', 'had', 'such', 'a', 'dangerous', 'stream', 'poured', 'in', 'her', 'ear', 'even', 'by', 'a', 'black', 'man', 'i', 'suppose', 'that', 'we', 'women', 'are', 'such', 'cowards', 'that', 'we', 'think', 'a', 'man', 'will', 'save', 'us', 'from', 'fears', 'and', 'we', 'marry', 'him', 'i', 'know', 'now', 'what', 'i', 'would', 'do', 'if', 'i', 'were', 'a', 'man', 'and', 'wanted', 'to', 'make', 'a', 'girl', 'love', 'me', 'no', 'i', 'don’t', 'for', 'there', 'was', 'mr', 'morris', 'telling', 'us', 'his', 'stories', 'and', 'arthur', 'never', 'told', 'any', 'and', 'yet', 'my', 'dear', 'i', 'am', 'somewhat', 'previous', 'mr', 'quincey', 'p', 'morris', 'found', 'me', 'alone', 'it', 'seems', 'that', 'a', 'man', 'always', 'does', 'find', 'a', 'girl', 'alone', 'no', 'he', 'doesn’t', 'for', 'arthur', 'tried', 'twice', 'to', 'make', 'a', 'chance', 'and', 'i', 'helping', 'him', 'all', 'i', 'could', 'i', 'am', 'not', 'ashamed', 'to', 'say', 'it', 'now', 'i', 'must', 'tell', 'you', 'beforehand', 'that', 'mr', 'morris', 'doesn’t', 'always', 'speak', 'slang', 'that', 'is', 'to', 'say', 'he', 'never', 'does', 'so', 'to', 'strangers', 'or', 'before', 'them', 'for', 'he', 'is', 'really', 'well', 'educated', 'and', 'has', 'exquisite', 'manners', 'but', 'he', 'found', 'out', 'that', 'it', 'amused', 'me', 'to', 'hear', 'him', 'talk', 'american', 'slang', 'and', 'whenever', 'i', 'was', 'present', 'and', 'there', 'was', 'no', 'one', 'to', 'be', 'shocked', 'he', 'said', 'such', 'funny', 'things', 'i', 'am', 'afraid', 'my', 'dear', 'he', 'has', 'to', 'invent', 'it', 'all', 'for', 'it', 'fits', 'exactly', 'into', 'whatever', 'else', 'he', 'has', 'to', 'say', 'but', 'this', 'is', 'a', 'way', 'slang', 'has', 'i', 'do', 'not', 'know', 'myself', 'if', 'i', 'shall', 'ever', 'speak', 'slang', 'i', 'do', 'not', 'know', 'if', 'arthur', 'likes', 'it', 'as', 'i', 'have', 'never', 'heard', 'him', 'use', 'any', 'as', 'yet', 'well', 'mr', 'morris', 'sat', 'down', 'beside', 'me', 'and', 'looked', 'as', 'happy', 'and', 'jolly', 'as', 'he', 'could', 'but', 'i', 'could', 'see', 'all', 'the', 'same', 'that', 'he', 'was', 'very', 'nervous', 'he', 'took', 'my', 'hand', 'in', 'his', 'and', 'said', 'ever', 'so', 'sweetly', '‘miss', 'lucy', 'i', 'know', 'i', 'ain’t', 'good', 'enough', 'to', 'regulate', 'the', 'fixin’s', 'of', 'your', 'little', 'shoes', 'but', 'i', 'guess', 'if', 'you', 'wait', 'till', 'you', 'find', 'a', 'man', 'that', 'is', 'you', 'will', 'go', 'join', 'them', 'seven', 'young', 'women', 'with', 'the', 'lamps', 'when', 'you', 'quit', 'won’t', 'you', 'just', 'hitch', 'up', 'alongside', 'of', 'me', 'and', 'let', 'us', 'go', 'down', 'the', 'long', 'road', 'together', 'driving', 'in', 'double', 'harness’', 'well', 'he', 'did', 'look', 'so', 'good-humoured', 'and', 'so', 'jolly', 'that', 'it', 'didn’t', 'seem', 'half', 'so', 'hard', 'to', 'refuse', 'him', 'as', 'it', 'did', 'poor', 'dr', 'seward', 'so', 'i', 'said', 'as', 'lightly', 'as', 'i', 'could', 'that', 'i', 'did', 'not', 'know', 'anything', 'of', 'hitching', 'and', 'that', 'i', 'wasn’t', 'broken', 'to', 'harness', 'at', 'all', 'yet', 'then', 'he', 'said', 'that', 'he', 'had', 'spoken', 'in', 'a', 'light', 'manner', 'and', 'he', 'hoped', 'that', 'if', 'he', 'had', 'made', 'a', 'mistake', 'in', 'doing', 'so', 'on', 'so', 'grave', 'so', 'momentous', 'an', 'occasion', 'for', 'him', 'i', 'would', 'forgive', 'him', 'he', 'really', 'did', 'look', 'serious', 'when', 'he', 'was', 'saying', 'it', 'and', 'i', 'couldn’t', 'help', 'feeling', 'a', 'bit', 'serious', 'too', 'i', 'know', 'mina', 'you', 'will', 'think', 'me', 'a', 'horrid', 'flirt', 'though', 'i', 'couldn’t', 'help', 'feeling', 'a', 'sort', 'of', 'exultation', 'that', 'he', 'was', 'number', 'two', 'in', 'one', 'day', 'and', 'then', 'my', 'dear', 'before', 'i', 'could', 'say', 'a', 'word', 'he', 'began', 'pouring', 'out', 'a', 'perfect', 'torrent', 'of', 'love-making', 'laying', 'his', 'very', 'heart', 'and', 'soul', 'at', 'my', 'feet', 'he', 'looked', 'so', 'earnest', 'over', 'it', 'that', 'i', 'shall', 'never', 'again', 'think', 'that', 'a', 'man', 'must', 'be', 'playful', 'always', 'and', 'never', 'earnest', 'because', 'he', 'is', 'merry', 'at', 'times', 'i', 'suppose', 'he', 'saw', 'something', 'in', 'my', 'face', 'which', 'checked', 'him', 'for', 'he', 'suddenly', 'stopped', 'and', 'said', 'with', 'a', 'sort', 'of', 'manly', 'fervour', 'that', 'i', 'could', 'have', 'loved', 'him', 'for', 'if', 'i', 'had', 'been', 'free', '‘lucy', 'you', 'are', 'an', 'honest-hearted', 'girl', 'i', 'know', 'i', 'should', 'not', 'be', 'here', 'speaking', 'to', 'you', 'as', 'i', 'am', 'now', 'if', 'i', 'did', 'not', 'believe', 'you', 'clean', 'grit', 'right', 'through', 'to', 'the', 'very', 'depths', 'of', 'your', 'soul', 'tell', 'me', 'like', 'one', 'good', 'fellow', 'to', 'another', 'is', 'there', 'any', 'one', 'else', 'that', 'you', 'care', 'for', 'and', 'if', 'there', 'is', 'i’ll', 'never', 'trouble', 'you', 'a', 'hair’s', 'breadth', 'again', 'but', 'will', 'be', 'if', 'you', 'will', 'let', 'me', 'a', 'very', 'faithful', 'friend’', 'my', 'dear', 'mina', 'why', 'are', 'men', 'so', 'noble', 'when', 'we', 'women', 'are', 'so', 'little', 'worthy', 'of', 'them', 'here', 'was', 'i', 'almost', 'making', 'fun', 'of', 'this', 'great-hearted', 'true', 'gentleman', 'i', 'burst', 'into', 'tears', 'i', 'am', 'afraid', 'my', 'dear', 'you', 'will', 'think', 'this', 'a', 'very', 'sloppy', 'letter', 'in', 'more', 'ways', 'than', 'one', 'and', 'i', 'really', 'felt', 'very', 'badly', 'why', 'can’t', 'they', 'let', 'a', 'girl', 'marry', 'three', 'men', 'or', 'as', 'many', 'as', 'want', 'her', 'and', 'save', 'all', 'this', 'trouble', 'but', 'this', 'is', 'heresy', 'and', 'i', 'must', 'not', 'say', 'it', 'i', 'am', 'glad', 'to', 'say', 'that', 'though', 'i', 'was', 'crying', 'i', 'was', 'able', 'to', 'look', 'into', 'mr', 'morris’s', 'brave', 'eyes', 'and', 'i', 'told', 'him', 'out', 'straight', '‘yes', 'there', 'is', 'some', 'one', 'i', 'love', 'though', 'he', 'has', 'not', 'told', 'me', 'yet', 'that', 'he', 'even', 'loves', 'me’', 'i', 'was', 'right', 'to', 'speak', 'to', 'him', 'so', 'frankly', 'for', 'quite', 'a', 'light', 'came', 'into', 'his', 'face', 'and', 'he', 'put', 'out', 'both', 'his', 'hands', 'and', 'took', 'mine', 'i', 'think', 'i', 'put', 'them', 'into', 'his', 'and', 'said', 'in', 'a', 'hearty', 'way', '‘that’s', 'my', 'brave', 'girl', 'it’s', 'better', 'worth', 'being', 'late', 'for', 'a', 'chance', 'of', 'winning', 'you', 'than', 'being', 'in', 'time', 'for', 'any', 'other', 'girl', 'in', 'the', 'world', 'don’t', 'cry', 'my', 'dear', 'if', 'it’s', 'for', 'me', 'i’m', 'a', 'hard', 'nut', 'to', 'crack', 'and', 'i', 'take', 'it', 'standing', 'up', 'if', 'that', 'other', 'fellow', 'doesn’t', 'know', 'his', 'happiness', 'well', 'he’d', 'better', 'look', 'for', 'it', 'soon', 'or', 'he’ll', 'have', 'to', 'deal', 'with', 'me', 'little', 'girl', 'your', 'honesty', 'and', 'pluck', 'have', 'made', 'me', 'a', 'friend', 'and', 'that’s', 'rarer', 'than', 'a', 'lover', 'it’s', 'more', 'unselfish', 'anyhow', 'my', 'dear', 'i’m', 'going', 'to', 'have', 'a', 'pretty', 'lonely', 'walk', 'between', 'this', 'and', 'kingdom', 'come', 'won’t', 'you', 'give', 'me', 'one', 'kiss', 'it’ll', 'be', 'something', 'to', 'keep', 'off', 'the', 'darkness', 'now', 'and', 'then', 'you', 'can', 'you', 'know', 'if', 'you', 'like', 'for', 'that', 'other', 'good', 'fellow', 'he', 'must', 'be', 'a', 'good', 'fellow', 'my', 'dear', 'and', 'a', 'fine', 'fellow', 'or', 'you', 'could', 'not', 'love', 'him', 'hasn’t', 'spoken', 'yet’', 'that', 'quite', 'won', 'me', 'mina', 'for', 'it', 'was', 'brave', 'and', 'sweet', 'of', 'him', 'and', 'noble', 'too', 'to', 'a', 'rival', 'wasn’t', 'it', 'and', 'he', 'so', 'sad', 'so', 'i', 'leant', 'over', 'and', 'kissed', 'him', 'he', 'stood', 'up', 'with', 'my', 'two', 'hands', 'in', 'his', 'and', 'as', 'he', 'looked', 'down', 'into', 'my', 'face', 'i', 'am', 'afraid', 'i', 'was', 'blushing', 'very', 'much', 'he', 'said', '‘little', 'girl', 'i', 'hold', 'your', 'hand', 'and', 'you’ve', 'kissed', 'me', 'and', 'if', 'these', 'things', 'don’t', 'make', 'us', 'friends', 'nothing', 'ever', 'will', 'thank', 'you', 'for', 'your', 'sweet', 'honesty', 'to', 'me', 'and', 'good-bye’', 'he', 'wrung', 'my', 'hand', 'and', 'taking', 'up', 'his', 'hat', 'went', 'straight', 'out', 'of', 'the', 'room', 'without', 'looking', 'back', 'without', 'a', 'tear', 'or', 'a', 'quiver', 'or', 'a', 'pause', 'and', 'i', 'am', 'crying', 'like', 'a', 'baby', 'oh', 'why', 'must', 'a', 'man', 'like', 'that', 'be', 'made', 'unhappy', 'when', 'there', 'are', 'lots', 'of', 'girls', 'about', 'who', 'would', 'worship', 'the', 'very', 'ground', 'he', 'trod', 'on', 'i', 'know', 'i', 'would', 'if', 'i', 'were', 'free', 'only', 'i', 'don’t', 'want', 'to', 'be', 'free', 'my', 'dear', 'this', 'quite', 'upset', 'me', 'and', 'i', 'feel', 'i', 'cannot', 'write', 'of', 'happiness', 'just', 'at', 'once', 'after', 'telling', 'you', 'of', 'it', 'and', 'i', 'don’t', 'wish', 'to', 'tell', 'of', 'the', 'number', 'three', 'until', 'it', 'can', 'be', 'all', 'happy', 'ever', 'your', 'loving', 'lucy', 'ps', 'oh', 'about', 'number', 'three', 'i', 'needn’t', 'tell', 'you', 'of', 'number', 'three', 'need', 'i', 'besides', 'it', 'was', 'all', 'so', 'confused', 'it', 'seemed', 'only', 'a', 'moment', 'from', 'his', 'coming', 'into', 'the', 'room', 'till', 'both', 'his', 'arms', 'were', 'round', 'me', 'and', 'he', 'was', 'kissing', 'me', 'i', 'am', 'very', 'very', 'happy', 'and', 'i', 'don’t', 'know', 'what', 'i', 'have', 'done', 'to', 'deserve', 'it', 'i', 'must', 'only', 'try', 'in', 'the', 'future', 'to', 'show', 'that', 'i', 'am', 'not', 'ungrateful', 'to', 'god', 'for', 'all', 'his', 'goodness', 'to', 'me', 'in', 'sending', 'to', 'me', 'such', 'a', 'lover', 'such', 'a', 'husband', 'and', 'such', 'a', 'friend', 'good-bye', 'dr', 'seward’s', 'diary', 'kept', 'in', 'phonograph', 'may', 'ebb', 'tide', 'in', 'appetite', 'to-day', 'cannot', 'eat', 'cannot', 'rest', 'so', 'diary', 'instead', 'since', 'my', 'rebuff', 'of', 'yesterday', 'i', 'have', 'a', 'sort', 'of', 'empty', 'feeling', 'nothing', 'in', 'the', 'world', 'seems', 'of', 'sufficient', 'importance', 'to', 'be', 'worth', 'the', 'doing', 'as', 'i', 'knew', 'that', 'the', 'only', 'cure', 'for', 'this', 'sort', 'of', 'thing', 'was', 'work', 'i', 'went', 'down', 'amongst', 'the', 'patients', 'i', 'picked', 'out', 'one', 'who', 'has', 'afforded', 'me', 'a', 'study', 'of', 'much', 'interest', 'he', 'is', 'so', 'quaint', 'that', 'i', 'am', 'determined', 'to', 'understand', 'him', 'as', 'well', 'as', 'i', 'can', 'to-day', 'i', 'seemed', 'to', 'get', 'nearer', 'than', 'ever', 'before', 'to', 'the', 'heart', 'of', 'his', 'mystery', 'i', 'questioned', 'him', 'more', 'fully', 'than', 'i', 'had', 'ever', 'done', 'with', 'a', 'view', 'to', 'making', 'myself', 'master', 'of', 'the', 'facts', 'of', 'his', 'hallucination', 'in', 'my', 'manner', 'of', 'doing', 'it', 'there', 'was', 'i', 'now', 'see', 'something', 'of', 'cruelty', 'i', 'seemed', 'to', 'wish', 'to', 'keep', 'him', 'to', 'the', 'point', 'of', 'his', 'madness', 'a', 'thing', 'which', 'i', 'avoid', 'with', 'the', 'patients', 'as', 'i', 'would', 'the', 'mouth', 'of', 'hell', 'mem', 'under', 'what', 'circumstances', 'would', 'i', 'not', 'avoid', 'the', 'pit', 'of', 'hell', 'omnia', 'romæ', 'venalia', 'sunt', 'hell', 'has', 'its', 'price', 'verb', 'sap', 'if', 'there', 'be', 'anything', 'behind', 'this', 'instinct', 'it', 'will', 'be', 'valuable', 'to', 'trace', 'it', 'afterwards', 'accurately', 'so', 'i', 'had', 'better', 'commence', 'to', 'do', 'so', 'therefore', 'r', 'm', 'renfield', 'ætat', 'sanguine', 'temperament', 'great', 'physical', 'strength', 'morbidly', 'excitable', 'periods', 'of', 'gloom', 'ending', 'in', 'some', 'fixed', 'idea', 'which', 'i', 'cannot', 'make', 'out', 'i', 'presume', 'that', 'the', 'sanguine', 'temperament', 'itself', 'and', 'the', 'disturbing', 'influence', 'end', 'in', 'a', 'mentally-accomplished', 'finish', 'a', 'possibly', 'dangerous', 'man', 'probably', 'dangerous', 'if', 'unselfish', 'in', 'selfish', 'men', 'caution', 'is', 'as', 'secure', 'an', 'armour', 'for', 'their', 'foes', 'as', 'for', 'themselves', 'what', 'i', 'think', 'of', 'on', 'this', 'point', 'is', 'when', 'self', 'is', 'the', 'fixed', 'point', 'the', 'centripetal', 'force', 'is', 'balanced', 'with', 'the', 'centrifugal', 'when', 'duty', 'a', 'cause', 'etc', 'is', 'the', 'fixed', 'point', 'the', 'latter', 'force', 'is', 'paramount', 'and', 'only', 'accident', 'or', 'a', 'series', 'of', 'accidents', 'can', 'balance', 'it', 'letter', 'quincey', 'p', 'morris', 'to', 'hon', 'arthur', 'holmwood', 'may', 'my', 'dear', 'art', 'we’ve', 'told', 'yarns', 'by', 'the', 'camp-fire', 'in', 'the', 'prairies', 'and', 'dressed', 'one', 'another’s', 'wounds', 'after', 'trying', 'a', 'landing', 'at', 'the', 'marquesas', 'and', 'drunk', 'healths', 'on', 'the', 'shore', 'of', 'titicaca', 'there', 'are', 'more', 'yarns', 'to', 'be', 'told', 'and', 'other', 'wounds', 'to', 'be', 'healed', 'and', 'another', 'health', 'to', 'be', 'drunk', 'won’t', 'you', 'let', 'this', 'be', 'at', 'my', 'camp-fire', 'to-morrow', 'night', 'i', 'have', 'no', 'hesitation', 'in', 'asking', 'you', 'as', 'i', 'know', 'a', 'certain', 'lady', 'is', 'engaged', 'to', 'a', 'certain', 'dinner-party', 'and', 'that', 'you', 'are', 'free', 'there', 'will', 'only', 'be', 'one', 'other', 'our', 'old', 'pal', 'at', 'the', 'korea', 'jack', 'seward', 'he’s', 'coming', 'too', 'and', 'we', 'both', 'want', 'to', 'mingle', 'our', 'weeps', 'over', 'the', 'wine-cup', 'and', 'to', 'drink', 'a', 'health', 'with', 'all', 'our', 'hearts', 'to', 'the', 'happiest', 'man', 'in', 'all', 'the', 'wide', 'world', 'who', 'has', 'won', 'the', 'noblest', 'heart', 'that', 'god', 'has', 'made', 'and', 'the', 'best', 'worth', 'winning', 'we', 'promise', 'you', 'a', 'hearty', 'welcome', 'and', 'a', 'loving', 'greeting', 'and', 'a', 'health', 'as', 'true', 'as', 'your', 'own', 'right', 'hand', 'we', 'shall', 'both', 'swear', 'to', 'leave', 'you', 'at', 'home', 'if', 'you', 'drink', 'too', 'deep', 'to', 'a', 'certain', 'pair', 'of', 'eyes', 'come', 'yours', 'as', 'ever', 'and', 'always', 'quincey', 'p', 'morris', 'telegram', 'from', 'arthur', 'holmwood', 'to', 'quincey', 'p', 'morris', 'may', 'count', 'me', 'in', 'every', 'time', 'i', 'bear', 'messages', 'which', 'will', 'make', 'both', 'your', 'ears', 'tingle', 'art']\n"
     ]
    }
   ],
   "source": [
    "# Answer the following questions using python code:\n",
    "from collections import Counter\n",
    "\n",
    "# 1. What is the total number of words in the text?\n",
    "print(\"the total number of words in the text is:\", len(cleaned_dracula))\n",
    "# 2. What is the total number of unique words in the text?\n",
    "print(\"the total number of unique words in the text is:\", len(set(cleaned_dracula)))\n",
    "\n",
    "#print(set(cleaned_dracula)) #unique word list check\n",
    "\n",
    "# 3. How many times is the word 'vampire' used in the text?\n",
    "print(\"the word vampire is used\", cleaned_dracula.count('vampire'), \"times in the text\")\n",
    "# 4. What is the name of Chapter 5?\n",
    "# Note in the text chapters are in roman numerals (5 is V)\n",
    "# To get just the text for chapter 5 you can use slicing between the start and end of chapter 5\n",
    "print(\"the name of chapter 5 is:\", dracula_text[dracula_text.find('CHAPTER V'):dracula_text.find('CHAPTER VI')])\n",
    "#Note- this is only possible due to the contents of the text file, if it was a different book, this would not work\n",
    "\n",
    "# 5. What is the total number of words in Chapter 5?\n",
    "# Hints:\n",
    "# To get just the text for chapter 5 you can use slicing between the start and end of chapter 5\n",
    "# To find the start of chapter 5 you can use the find method to find the index of the string 'CHAPTER V'\n",
    "# To find the end of chapter 5 you can use the find method to find the index of the string 'CHAPTER VI'\n",
    "# Then you can use slicing to get the text inbetween the start and end of chapter 5\n",
    "# IE find 'CHAPTER V' : find 'CHAPTER VI'\n",
    "# Then find the length of the text for the result of the slicing\n",
    "\n",
    "startchV = dracula_text.find('_Letter from Miss Mina Murray to Miss Lucy Westenra._')\n",
    "endishChVI = dracula_text.find('_24 July. Whitby._--')#32 before it so remember that\n",
    "Chapter_V = dracula_text[startchV:endishChVI-40]\n",
    "# print(Chapter_V) # it works, now got to filter it\n",
    "cleaned_Chapter_V = Chapter_V.replace('.','').replace(',','').replace('\"','').replace('“','').replace('”','').replace('!','').replace('?','').replace(':','').replace(';','').replace('_','').replace('\"','').replace('--',' ').replace('[','').replace(']','').replace('{','').replace('}','').replace('(','').replace(')','').replace('&','').replace('=','').replace('>','').replace('0','').replace('1','').replace('2','').replace('3','').replace('4','').replace('5','').replace('6','').replace('7','').replace('8','').replace('9','').replace('*       *       *       *       *','').replace('***','').lower().split()\n",
    "\n",
    "print(cleaned_Chapter_V)\n",
    "\n",
    "\n",
    "\n",
    "\n",
    "\n",
    "\n",
    "#below... it came out funny, not using it.  thought i could just get rid of contents after cleaning it.  it looks wierd though\n",
    "# recombined = ' '.join(cleaned_dracula)\n",
    "# aftercontents = recombined.find('CHAPTER I')\n",
    "# end_of_book = recombined.find('THE END')\n",
    "\n",
    "# Contents_removed = recombined[aftercontents+37:end_of_book]\n",
    "\n",
    "# print(Contents_removed)\n",
    "# n"
   ]
  }
 ],
 "metadata": {
  "kernelspec": {
   "display_name": "venv",
   "language": "python",
   "name": "python3"
  },
  "language_info": {
   "codemirror_mode": {
    "name": "ipython",
    "version": 3
   },
   "file_extension": ".py",
   "mimetype": "text/x-python",
   "name": "python",
   "nbconvert_exporter": "python",
   "pygments_lexer": "ipython3",
   "version": "3.11.5"
  }
 },
 "nbformat": 4,
 "nbformat_minor": 2
}
