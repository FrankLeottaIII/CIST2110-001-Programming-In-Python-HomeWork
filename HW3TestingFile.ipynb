{
 "cells": [
  {
   "cell_type": "code",
   "execution_count": null,
   "metadata": {},
   "outputs": [
    {
     "name": "stdout",
     "output_type": "stream",
     "text": [
      "('frank', '30', 'blue')\n"
     ]
    },
    {
     "ename": "",
     "evalue": "",
     "output_type": "error",
     "traceback": [
      "\u001b[1;31mThe Kernel crashed while executing code in the the current cell or a previous cell. Please review the code in the cell(s) to identify a possible cause of the failure. Click <a href='https://aka.ms/vscodeJupyterKernelCrash'>here</a> for more info. View Jupyter <a href='command:jupyter.viewOutput'>log</a> for further details."
     ]
    }
   ],
   "source": [
    "# this is a test file\n",
    "NAME = \"\"\n",
    "AGE = 0\n",
    "AGE= int(AGE)\n",
    "COLOR = \"\"\n",
    "def get_name_age_color()->str:\n",
    "    global NAME\n",
    "    global AGE\n",
    "    global COLOR\n",
    "    NAME = input(\"Enter your name: \")\n",
    "    AGE = input(\"Enter your age: \")\n",
    "    COLOR = input(\"Enter your favorite color: \")\n",
    "    return str(NAME), str(AGE), str(COLOR)\n",
    "def print_name_age_color()->str:\n",
    "    global NAME\n",
    "    global AGE\n",
    "    global COLOR\n",
    "    return print(\"hello there, my name is \" + NAME + \".  I am \" + AGE + \" years old, and my favorate color is \" + COLOR + \".\")\n",
    "print_name_age_color()"
   ]
  }
 ],
 "metadata": {
  "kernelspec": {
   "display_name": "Python 3",
   "language": "python",
   "name": "python3"
  },
  "language_info": {
   "codemirror_mode": {
    "name": "ipython",
    "version": 3
   },
   "file_extension": ".py",
   "mimetype": "text/x-python",
   "name": "python",
   "nbconvert_exporter": "python",
   "pygments_lexer": "ipython3",
   "version": "3.11.5"
  }
 },
 "nbformat": 4,
 "nbformat_minor": 2
}
